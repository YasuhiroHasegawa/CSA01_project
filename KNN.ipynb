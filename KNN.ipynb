{
  "nbformat": 4,
  "nbformat_minor": 0,
  "metadata": {
    "interpreter": {
      "hash": "7b5775e02e52ead95ad0e47b4064f7acdba77530366f4722dd568c1c7c61514c"
    },
    "kernelspec": {
      "display_name": "Python 3.8.5 64-bit ('vtuber_graph': conda)",
      "name": "python3"
    },
    "language_info": {
      "codemirror_mode": {
        "name": "ipython",
        "version": 3
      },
      "file_extension": ".py",
      "mimetype": "text/x-python",
      "name": "python",
      "nbconvert_exporter": "python",
      "pygments_lexer": "ipython3",
      "version": "3.8.5"
    },
    "colab": {
      "name": "KNN.ipynb",
      "provenance": [],
      "collapsed_sections": []
    }
  },
  "cells": [
    {
      "cell_type": "code",
      "metadata": {
        "id": "wGeKHdXdfsq0"
      },
      "source": [
        "# パッケージのインストール\n",
        "\n",
        "import numpy as np\n",
        "import pandas as pd\n",
        "import matplotlib.pyplot as plt\n",
        "from sklearn.neighbors import KNeighborsClassifier\n",
        "from sklearn.model_selection import train_test_split # trainとtest分割用\n",
        "from sklearn import metrics\n",
        "from sklearn.metrics import confusion_matrix"
      ],
      "execution_count": 1,
      "outputs": []
    },
    {
      "cell_type": "code",
      "metadata": {
        "colab": {
          "base_uri": "https://localhost:8080/"
        },
        "id": "uGFSgbnQgS1H",
        "outputId": "2e074a9c-71c1-4def-a1ae-49599671c254"
      },
      "source": [
        "#google colab 環境の時のデータインストール　（local環境のデータインストールをする場合、ここを実行する必要ない。）\n",
        "from google.colab import drive\n",
        "drive.mount('/content/drive')\n",
        "%cd \"drive/My Drive/dataset\""
      ],
      "execution_count": 2,
      "outputs": [
        {
          "output_type": "stream",
          "text": [
            "Mounted at /content/drive\n",
            "/content/drive/My Drive/dataset\n"
          ],
          "name": "stdout"
        }
      ]
    },
    {
      "cell_type": "code",
      "metadata": {
        "id": "VdChvfWvh3za"
      },
      "source": [
        "#google colab 環境の時のデータインストール２　（local環境のデータインストールをする場合、ここを実行する必要ない。）\n",
        "iris = pd.read_csv(\"bezdekIris.data\",sep=\",\", names=('sepal_length', 'sepal_width', 'petal_length', 'petal_width', 'label'))\n",
        "wine = pd.read_csv(\"wine.data\",sep=\",\",header=None)\n",
        "abalone = pd.read_csv(\"balance-scale.data\",sep=\",\",header=None)\n",
        "wifi = pd.read_csv(\"wifi_localization.txt\",header=None,sep= \"\\t\")\n",
        "#print(iris)\n",
        "#print(wine)"
      ],
      "execution_count": 3,
      "outputs": []
    },
    {
      "cell_type": "code",
      "metadata": {
        "id": "WAYf6l9lh15b"
      },
      "source": [
        "#local 環境のデータインストール(google colab環境で実行する場合ここは必要ない。）\n",
        "iris = pd.read_csv(\"../dataset/bezdekIris.data\",sep=\",\", names=('sepal_length', 'sepal_width', 'petal_length', 'petal_width', 'label'))\n",
        "wine = pd.read_csv(\"../dataset/wine.data\",sep=\",\",header=None)\n",
        "abalone = pd.read_csv(\"../dataset/balance-scale.data\",sep=\",\",header=None)\n",
        "wifi = pd.read_csv(\"../dataset/wifi_localization.txt\",header=None,sep= \"\\t\")\n",
        "\n",
        "#print(iris)\n",
        "#print(wine)"
      ],
      "execution_count": null,
      "outputs": []
    },
    {
      "cell_type": "code",
      "metadata": {
        "id": "oK-FNRRkfsq6"
      },
      "source": [
        "#データの整理\n",
        "iris_label = iris.loc[:, \"label\":] \n",
        "iris_data  = iris.loc[:, :\"petal_width\"] \n",
        "\n",
        "wine_label  = wine.iloc[:, :1] \n",
        "wine_data = wine.iloc[:, 1:] \n",
        "\n",
        "balance_label  = abalone.iloc[:, :1] \n",
        "balance_data = abalone.iloc[:, 1:]\n",
        "\n",
        "wifi_data  = wifi.iloc[:, :-1] \n",
        "wifi_label = wifi.iloc[:, -1:]"
      ],
      "execution_count": 8,
      "outputs": []
    },
    {
      "cell_type": "code",
      "metadata": {
        "colab": {
          "base_uri": "https://localhost:8080/"
        },
        "id": "R196XblEpT82",
        "outputId": "f7535bcc-73f1-4eb5-c28e-4a8248f198c2"
      },
      "source": [
        "print(balance_label)"
      ],
      "execution_count": 9,
      "outputs": [
        {
          "output_type": "stream",
          "text": [
            "     0\n",
            "0    B\n",
            "1    R\n",
            "2    R\n",
            "3    R\n",
            "4    R\n",
            "..  ..\n",
            "620  L\n",
            "621  L\n",
            "622  L\n",
            "623  L\n",
            "624  B\n",
            "\n",
            "[625 rows x 1 columns]\n"
          ],
          "name": "stdout"
        }
      ]
    },
    {
      "cell_type": "code",
      "metadata": {
        "id": "yAJaeCMQfsq7"
      },
      "source": [
        "#混合行列可視化用　関数\n",
        "\n",
        "def make_cm(matrix, columns):\n",
        "    # matrix numpy配列\n",
        "\n",
        "    # columns 項目名リスト\n",
        "    n = len(columns)\n",
        "\n",
        "    # '正解データ'をn回繰り返すリスト生成\n",
        "    print(\"confusion matrix:\")\n",
        "    print(\"横:予測データ  縦:正解データ \")\n",
        "    #データフレーム生成\n",
        "    cm = pd.DataFrame(matrix, \n",
        "        columns=[columns], index=[columns])\n",
        "    return cm\n"
      ],
      "execution_count": 24,
      "outputs": []
    },
    {
      "cell_type": "code",
      "metadata": {
        "colab": {
          "base_uri": "https://localhost:8080/",
          "height": 440
        },
        "id": "obZfCZS6k_zU",
        "outputId": "414056a3-eafc-4729-b06e-e732ffa622a0"
      },
      "source": [
        "#iris dataset KNN\n",
        "#テストデータ　トレーニングデータ分割\n",
        "X_train, X_test, y_train, y_test = train_test_split(iris_data,iris_label, test_size=0.2, random_state=42)\n",
        "y_train =np.reshape(y_train[\"label\"],(-1))\n",
        "label = [\"Iris-setosa\",\"Iris-versicolor\",\"Iris-virginica\"]\n",
        "\n",
        "#グラフデータ変数定義\n",
        "graph_x = range(1,85)\n",
        "graph_y = []\n",
        "max_accuracy = -1\n",
        "max_K = -1\n",
        "cm = -1\n",
        "\n",
        "#knn k=1 から k = 85までテスト\n",
        "for K in range(1,85):\n",
        "  #変数kのknn分類機\n",
        "    knn = KNeighborsClassifier(n_neighbors=K)\n",
        "    knn.fit(X_train, y_train)\n",
        "    Y_pred = knn.predict(X_test)\n",
        "    graph_y.append(metrics.accuracy_score(y_test, Y_pred))\n",
        "\n",
        "    if max_accuracy < metrics.accuracy_score(y_test, Y_pred):\n",
        "        max_accuracy = metrics.accuracy_score(y_test, Y_pred)\n",
        "        max_K = K\n",
        "        cm = confusion_matrix(y_test, Y_pred,labels=label)\n",
        "\n",
        "plt.plot(graph_x, graph_y)\n",
        "\n",
        "plt.xlabel('K_neiborhood : K = x')\n",
        "plt.ylabel('accuracy score')\n",
        "plt.ylim(0.6, 1)\n",
        "plt.show()\n",
        "\n",
        "print(\"iris:\")\n",
        "print(\"accuracy:\" + str(max_accuracy) +\"   (K=\" + str(max_K) + \")\\n\")    # 予測精度計測\n",
        "print(make_cm(cm,label))"
      ],
      "execution_count": 38,
      "outputs": [
        {
          "output_type": "display_data",
          "data": {
            "image/png": "[encoded data removed]",
            "text/plain": [
              "<Figure size 432x288 with 1 Axes>"
            ]
          },
          "metadata": {
            "tags": [],
            "needs_background": "light"
          }
        },
        {
          "output_type": "stream",
          "text": [
            "iris:\n",
            "accuracy:1.0   (K=1)\n",
            "\n",
            "confusion matrix:\n",
            "横:予測データ  縦:正解データ \n",
            "                Iris-setosa Iris-versicolor Iris-virginica\n",
            "Iris-setosa              10               0              0\n",
            "Iris-versicolor           0               9              0\n",
            "Iris-virginica            0               0             11\n"
          ],
          "name": "stdout"
        }
      ]
    },
    {
      "cell_type": "code",
      "metadata": {
        "colab": {
          "base_uri": "https://localhost:8080/",
          "height": 440
        },
        "id": "m_k5XBevfsq-",
        "outputId": "9254462e-9c5e-439f-ef17-923386f7ce52"
      },
      "source": [
        "#wine \n",
        "#テストデータ分割\n",
        "X_train, X_test, y_train, y_test = train_test_split(wine_data,wine_label, test_size=0.2, random_state=42)\n",
        "y_train =np.reshape(y_train[0],(-1))\n",
        "label = [1,2,3]\n",
        "#グラフ向け変数定義\n",
        "graph_x = range(1,121)\n",
        "graph_y = []\n",
        "max_accuracy = -1\n",
        "max_K = -1\n",
        "cm = -1\n",
        "\n",
        "#knn k=1 から k=121までテスト\n",
        "for K in range(1,121):\n",
        "    knn = KNeighborsClassifier(n_neighbors=K)\n",
        "    knn.fit(X_train, y_train)\n",
        "    Y_pred = knn.predict(X_test)\n",
        "    graph_y.append(metrics.accuracy_score(y_test, Y_pred))\n",
        "\n",
        "    if max_accuracy < metrics.accuracy_score(y_test, Y_pred):\n",
        "        max_accuracy = metrics.accuracy_score(y_test, Y_pred)\n",
        "        max_K = K\n",
        "        cm = confusion_matrix(y_test, Y_pred, labels = label)\n",
        "plt.plot(graph_x, graph_y)\n",
        "\n",
        "plt.xlabel('K_neiborhood : K = x')\n",
        "plt.ylabel('accuracy score')\n",
        "plt.ylim(0.3, 1)\n",
        "plt.show()\n",
        "print(\"wine:\")\n",
        "print(\"accuracy:\" + str(max_accuracy) +\"   (K=\" + str(max_K) + \")\\n\")    # 予測精度計測\n",
        "print(make_cm(cm,label))"
      ],
      "execution_count": 39,
      "outputs": [
        {
          "output_type": "display_data",
          "data": {
            "image/png": "[encoded data removed]",
            "text/plain": [
              "<Figure size 432x288 with 1 Axes>"
            ]
          },
          "metadata": {
            "tags": [],
            "needs_background": "light"
          }
        },
        {
          "output_type": "stream",
          "text": [
            "wine:\n",
            "accuracy:0.8333333333333334   (K=34)\n",
            "\n",
            "confusion matrix:\n",
            "横:予測データ  縦:正解データ \n",
            "    1   2  3\n",
            "1  14   0  0\n",
            "2   0  10  4\n",
            "3   0   2  6\n"
          ],
          "name": "stdout"
        }
      ]
    },
    {
      "cell_type": "code",
      "metadata": {
        "colab": {
          "base_uri": "https://localhost:8080/",
          "height": 440
        },
        "id": "EdcXSLfTfsrB",
        "outputId": "aae4ef40-5853-4ef4-9f0b-6392807c950f"
      },
      "source": [
        "#balance\n",
        "#X_train, X_test, y_train, y_test = train_test_split(abalone_data.iloc[:, :-3],abalone_label, test_size=0.2, random_state=42)\n",
        "X_train, X_test, y_train, y_test = train_test_split(balance_data.iloc[:, :],balance_label, test_size=0.2, random_state=42)\n",
        "y_train =np.reshape(y_train[0],(-1))\n",
        "\n",
        "#print(set(y_test[0]))\n",
        "#グラフ用変数定義\n",
        "graph_x = range(1,400)\n",
        "graph_y = []\n",
        "max_accuracy = -1\n",
        "max_K = -1\n",
        "cm = -1\n",
        "labels = [\"R\", \"B\", \"L\"]\n",
        "#k＝１から4００までテスト\n",
        "for K in range(1,400):\n",
        "    knn = KNeighborsClassifier(n_neighbors=K)\n",
        "    knn.fit(X_train, y_train)\n",
        "    Y_pred = knn.predict(X_test)\n",
        "    graph_y.append(metrics.accuracy_score(y_test, Y_pred))\n",
        "\n",
        "    if max_accuracy < metrics.accuracy_score(y_test, Y_pred):\n",
        "        max_accuracy = metrics.accuracy_score(y_test, Y_pred)\n",
        "        max_K = K\n",
        "        cm = confusion_matrix(y_test, Y_pred, labels = labels)\n",
        "plt.plot(graph_x, graph_y)\n",
        "\n",
        "plt.xlabel('K_neiborhood : K = x')\n",
        "plt.ylabel('accuracy score')\n",
        "plt.ylim(0.62, 1)\n",
        "plt.show()\n",
        "print(\"balance:\")\n",
        "print(\"accuracy:\" + str(max_accuracy) +\"   (K=\" + str(max_K) + \")\\n\")    # 予測精度計測\n",
        "\n",
        "print(make_cm(cm,labels))"
      ],
      "execution_count": 42,
      "outputs": [
        {
          "output_type": "display_data",
          "data": {
            "image/png": "[encoded data removed]",
            "text/plain": [
              "<Figure size 432x288 with 1 Axes>"
            ]
          },
          "metadata": {
            "tags": [],
            "needs_background": "light"
          }
        },
        {
          "output_type": "stream",
          "text": [
            "balance:\n",
            "accuracy:0.896   (K=54)\n",
            "\n",
            "confusion matrix:\n",
            "横:予測データ  縦:正解データ \n",
            "    R  B   L\n",
            "R  57  0   2\n",
            "B   5  0   6\n",
            "L   0  0  55\n"
          ],
          "name": "stdout"
        }
      ]
    },
    {
      "cell_type": "code",
      "metadata": {
        "colab": {
          "base_uri": "https://localhost:8080/",
          "height": 458
        },
        "id": "Ke84-SmVpvHl",
        "outputId": "6cf7aed3-bda7-4bb1-dc91-53f74128d5d8"
      },
      "source": [
        "#wifi\n",
        "#X_train, X_test, y_train, y_test = train_test_split(abalone_data.iloc[:, :-3],abalone_label, test_size=0.2, random_state=42)\n",
        "X_train, X_test, y_train, y_test = train_test_split(wifi_data.iloc[:, :],wifi_label, test_size=0.2, random_state=42)\n",
        "y_train =np.reshape(y_train[7],(-1))\n",
        "labels = list( set(y_train) )\n",
        "#グラフ用変数定義\n",
        "graph_x = range(1,600)\n",
        "graph_y = []\n",
        "max_accuracy = -1\n",
        "max_K = -1\n",
        "cm = -1\n",
        "\n",
        "#k＝１から6００までテスト\n",
        "for K in range(1,600):\n",
        "    knn = KNeighborsClassifier(n_neighbors=K)\n",
        "    knn.fit(X_train, y_train)\n",
        "    Y_pred = knn.predict(X_test)\n",
        "    graph_y.append(metrics.accuracy_score(y_test, Y_pred))\n",
        "\n",
        "    if max_accuracy < metrics.accuracy_score(y_test, Y_pred):\n",
        "        max_accuracy = metrics.accuracy_score(y_test, Y_pred)\n",
        "        max_K = K\n",
        "        cm = confusion_matrix(y_test, Y_pred, labels = labels)\n",
        "plt.plot(graph_x, graph_y)\n",
        "\n",
        "plt.xlabel('K_neiborhood : K = x')\n",
        "plt.ylabel('accuracy score')\n",
        "plt.ylim(0.85, 1.0)\n",
        "plt.show()\n",
        "\n",
        "print(\"wifi:\")\n",
        "print(\"accuracy:\" + str(max_accuracy) +\"   (K=\" + str(max_K) + \")\\n\")    # 予測精度計測\n",
        "print(make_cm(cm, labels))"
      ],
      "execution_count": 43,
      "outputs": [
        {
          "output_type": "display_data",
          "data": {
            "image/png": "[encoded data removed]",
            "text/plain": [
              "<Figure size 432x288 with 1 Axes>"
            ]
          },
          "metadata": {
            "tags": [],
            "needs_background": "light"
          }
        },
        {
          "output_type": "stream",
          "text": [
            "wifi:\n",
            "accuracy:0.985   (K=8)\n",
            "\n",
            "confusion matrix:\n",
            "横:予測データ  縦:正解データ \n",
            "     1   2   3    4\n",
            "1  104   0   0    0\n",
            "2    0  90   5    0\n",
            "3    0   0  88    0\n",
            "4    1   0   0  112\n"
          ],
          "name": "stdout"
        }
      ]
    }
  ]
}